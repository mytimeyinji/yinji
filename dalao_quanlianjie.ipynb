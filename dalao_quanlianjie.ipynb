{
  "nbformat": 4,
  "nbformat_minor": 0,
  "metadata": {
    "colab": {
      "name": "dalao_quanlianjie.ipynb",
      "provenance": [],
      "collapsed_sections": [],
      "authorship_tag": "ABX9TyNDsU436v/4xUd2ymgAuP74",
      "include_colab_link": true
    },
    "kernelspec": {
      "name": "python3",
      "display_name": "Python 3"
    }
  },
  "cells": [
    {
      "cell_type": "markdown",
      "metadata": {
        "id": "view-in-github",
        "colab_type": "text"
      },
      "source": [
        "<a href=\"https://colab.research.google.com/github/mytimeyinji/yinji/blob/master/dalao_quanlianjie.ipynb\" target=\"_parent\"><img src=\"https://colab.research.google.com/assets/colab-badge.svg\" alt=\"Open In Colab\"/></a>"
      ]
    },
    {
      "cell_type": "markdown",
      "metadata": {
        "id": "gUdGUrGeoIs0",
        "colab_type": "text"
      },
      "source": [
        "参考网址;https://blog.csdn.net/qq_40438165/article/details/105846692\n",
        "\n"
      ]
    },
    {
      "cell_type": "code",
      "metadata": {
        "id": "GBtTqfsIoHpg",
        "colab_type": "code",
        "colab": {
          "base_uri": "https://localhost:8080/",
          "height": 35
        },
        "outputId": "d3b776cb-39b3-41bb-d1bb-fff9e5362fff"
      },
      "source": [
        "from __future__ import print_function\n",
        "\n",
        "import math\n",
        "\n",
        "from IPython import display\n",
        "from matplotlib import cm\n",
        "from matplotlib import gridspec\n",
        "from matplotlib import pyplot as plt\n",
        "import numpy as np\n",
        "import pandas as pd\n",
        "from sklearn import metrics\n",
        "%tensorflow_version 1.x\n",
        "import tensorflow as tf\n",
        "from tensorflow.python.data import Dataset\n",
        "\n",
        "tf.logging.set_verbosity(tf.logging.ERROR)\n",
        "pd.options.display.max_rows = 10\n",
        "pd.options.display.float_format = '{:.1f}'.format"
      ],
      "execution_count": 1,
      "outputs": [
        {
          "output_type": "stream",
          "text": [
            "TensorFlow 1.x selected.\n"
          ],
          "name": "stdout"
        }
      ]
    },
    {
      "cell_type": "code",
      "metadata": {
        "id": "V1LZdLLUoVB7",
        "colab_type": "code",
        "colab": {
          "base_uri": "https://localhost:8080/",
          "height": 283
        },
        "outputId": "c7d80926-a503-40d9-9daf-22d01b5b8f24"
      },
      "source": [
        "from keras.datasets import mnist\n",
        "import matplotlib.pyplot as plt\n",
        "\n",
        "# 加载数据集\n",
        "(train_images, train_labels), (test_images, test_labels) = mnist.load_data()\n",
        "print(train_images.shape, test_images.shape)\n",
        "#print(train_images[0])\n",
        "#print(train_labels[0])\n",
        "plt.imshow(train_images[0])\n",
        "plt.show()"
      ],
      "execution_count": 32,
      "outputs": [
        {
          "output_type": "stream",
          "text": [
            "(60000, 28, 28) (10000, 28, 28)\n"
          ],
          "name": "stdout"
        },
        {
          "output_type": "display_data",
          "data": {
            "image/png": "[encoded data removed]",
            "text/plain": [
              "<Figure size 432x288 with 1 Axes>"
            ]
          },
          "metadata": {
            "tags": [],
            "needs_background": "light"
          }
        }
      ]
    },
    {
      "cell_type": "markdown",
      "metadata": {
        "id": "mt41AYNpo3TV",
        "colab_type": "text"
      },
      "source": [
        "将图片由二维铺开成一维\n",
        "\n",
        "在转换为one-hot编码之前,添加以下代码"
      ]
    },
    {
      "cell_type": "code",
      "metadata": {
        "id": "K2W2XaEAot-Q",
        "colab_type": "code",
        "colab": {
          "base_uri": "https://localhost:8080/",
          "height": 52
        },
        "outputId": "98ee26bc-3dea-41db-f0d3-815c4c817ae3"
      },
      "source": [
        "from keras.utils import to_categorical\n",
        "\n",
        "train_labels = train_labels.reshape(train_labels.shape[0])\n",
        "test_labels = test_labels.reshape(test_labels.shape[0])\n",
        "print(train_images.shape,train_labels.shape)\n",
        "print(test_images.shape,test_labels.shape)\n",
        "\n",
        "\n",
        "train_images = train_images.reshape((60000, 28*28)).astype('float')\n",
        "test_images = test_images.reshape((10000, 28*28)).astype('float')\n",
        "train_labels = to_categorical(train_labels)\n",
        "test_labels = to_categorical(test_labels)"
      ],
      "execution_count": 33,
      "outputs": [
        {
          "output_type": "stream",
          "text": [
            "(60000, 28, 28) (60000,)\n",
            "(10000, 28, 28) (10000,)\n"
          ],
          "name": "stdout"
        }
      ]
    },
    {
      "cell_type": "markdown",
      "metadata": {
        "id": "5pPwu8ZDpbfn",
        "colab_type": "text"
      },
      "source": [
        "搭建神经网络\n",
        "\n",
        "关于神经网络中隐藏层和神经元的深入理解\n",
        "https://blog.csdn.net/chinwuforwork/article/details/84141078 "
      ]
    },
    {
      "cell_type": "code",
      "metadata": {
        "id": "rnDIqgBTpVK3",
        "colab_type": "code",
        "colab": {}
      },
      "source": [
        "from keras import models, layers, regularizers\n",
        "from keras.optimizers import RMSprop\n",
        "network = models.Sequential()\n",
        "#network.add(layers.Dense(units=15, activation='relu', input_shape=(28*28, ),))\n",
        "\n",
        "#拓展测试：隐藏层的个数改为128个神经元，以及多加了一层隐藏层（神经网络的结构变得复杂）\n",
        "network.add(layers.Dense(units=128, activation='relu', input_shape=(28*28, ),kernel_regularizer=regularizers.l1(0.0001)))\n",
        "network.add(layers.Dropout(0.01))\n",
        "network.add(layers.Dense(units=32, activation='relu',kernel_regularizer=regularizers.l1(0.0001)))\n",
        "network.add(layers.Dropout(0.01))\n",
        "\n",
        "network.add(layers.Dense(units=10, activation='softmax'))\n",
        "\n",
        "#print(network.summary())\n"
      ],
      "execution_count": 0,
      "outputs": []
    },
    {
      "cell_type": "markdown",
      "metadata": {
        "id": "U2gVpAH1sjW2",
        "colab_type": "text"
      },
      "source": [
        "神经网络训练\n",
        "1、编译：确定优化器和损失函数等\n",
        "2、训练网络：确定训练的数据、训练的轮数和每次训练的样本数等"
      ]
    },
    {
      "cell_type": "markdown",
      "metadata": {
        "id": "SngcsBpYKXOb",
        "colab_type": "text"
      },
      "source": [
        "将y转换为one-hot编码后，y都是三维的。\n",
        "但是dense_2得到的输出是二维的。\n",
        "维度信息不匹配。将程序放到同学的电脑上跑时，得到的却是二维的。说明程序没有问题，可能是我的环境存在小问题。解决方法：https://blog.csdn.net/weixin_41735859/article/details/86288356"
      ]
    },
    {
      "cell_type": "code",
      "metadata": {
        "id": "FIxuKstvsWJ3",
        "colab_type": "code",
        "colab": {
          "base_uri": "https://localhost:8080/",
          "height": 728
        },
        "outputId": "613aa3f4-c1e7-4fa5-af9f-14a60537b0f5"
      },
      "source": [
        "# 编译步骤\n",
        "network.compile(optimizer=RMSprop(lr=0.001), loss='categorical_crossentropy', metrics=['accuracy'])\n",
        "# 训练网络，用fit函数, epochs表示训练多少个回合， batch_size表示每次训练给多大的数据\n",
        "network.fit(train_images, train_labels, epochs=20, batch_size=128, verbose=2)"
      ],
      "execution_count": 39,
      "outputs": [
        {
          "output_type": "stream",
          "text": [
            "Epoch 1/20\n",
            " - 2s - loss: 2.7782 - accuracy: 0.4807\n",
            "Epoch 2/20\n",
            " - 2s - loss: 1.2786 - accuracy: 0.7135\n",
            "Epoch 3/20\n",
            " - 2s - loss: 0.7329 - accuracy: 0.8793\n",
            "Epoch 4/20\n",
            " - 2s - loss: 0.4862 - accuracy: 0.9214\n",
            "Epoch 5/20\n",
            " - 3s - loss: 0.3937 - accuracy: 0.9409\n",
            "Epoch 6/20\n",
            " - 3s - loss: 0.3324 - accuracy: 0.9537\n",
            "Epoch 7/20\n",
            " - 3s - loss: 0.3000 - accuracy: 0.9577\n",
            "Epoch 8/20\n",
            " - 2s - loss: 0.2733 - accuracy: 0.9625\n",
            "Epoch 9/20\n",
            " - 2s - loss: 0.2548 - accuracy: 0.9646\n",
            "Epoch 10/20\n",
            " - 2s - loss: 0.2478 - accuracy: 0.9656\n",
            "Epoch 11/20\n",
            " - 2s - loss: 0.2345 - accuracy: 0.9670\n",
            "Epoch 12/20\n",
            " - 2s - loss: 0.2271 - accuracy: 0.9681\n",
            "Epoch 13/20\n",
            " - 2s - loss: 0.2189 - accuracy: 0.9697\n",
            "Epoch 14/20\n",
            " - 2s - loss: 0.2118 - accuracy: 0.9711\n",
            "Epoch 15/20\n",
            " - 2s - loss: 0.2111 - accuracy: 0.9712\n",
            "Epoch 16/20\n",
            " - 2s - loss: 0.2092 - accuracy: 0.9706\n",
            "Epoch 17/20\n",
            " - 2s - loss: 0.2032 - accuracy: 0.9718\n",
            "Epoch 18/20\n",
            " - 2s - loss: 0.2011 - accuracy: 0.9717\n",
            "Epoch 19/20\n",
            " - 2s - loss: 0.1957 - accuracy: 0.9722\n",
            "Epoch 20/20\n",
            " - 2s - loss: 0.1925 - accuracy: 0.9728\n"
          ],
          "name": "stdout"
        },
        {
          "output_type": "execute_result",
          "data": {
            "text/plain": [
              "<keras.callbacks.callbacks.History at 0x7f9ff530a160>"
            ]
          },
          "metadata": {
            "tags": []
          },
          "execution_count": 39
        }
      ]
    },
    {
      "cell_type": "markdown",
      "metadata": {
        "id": "eMEgpKLtMoDK",
        "colab_type": "text"
      },
      "source": [
        "用训练好的模型进行预测，并在测试集上做出评价"
      ]
    },
    {
      "cell_type": "code",
      "metadata": {
        "id": "JxzfdFAaMfwA",
        "colab_type": "code",
        "colab": {
          "base_uri": "https://localhost:8080/",
          "height": 295
        },
        "outputId": "b894222e-8627-4dd8-92d7-f01f89d6ecce"
      },
      "source": [
        "# 来在测试集上测试一下模型的性能吧\n",
        "y_pre = network.predict(test_images[:5])\n",
        "print(y_pre, test_labels[:5])\n",
        "test_loss, test_accuracy = network.evaluate(test_images, test_labels)\n",
        "print(\"test_loss:\", test_loss, \"   test_accuracy:\", test_accuracy)"
      ],
      "execution_count": 40,
      "outputs": [
        {
          "output_type": "stream",
          "text": [
            "[[1.9894319e-34 9.4194162e-34 1.7504903e-20 5.3907326e-22 2.8973526e-22\n",
            "  1.2875964e-15 0.0000000e+00 1.0000000e+00 1.2586976e-27 1.9505690e-08]\n",
            " [3.6535220e-36 5.8566688e-06 9.9981135e-01 1.8277689e-04 0.0000000e+00\n",
            "  7.6722056e-14 0.0000000e+00 2.6505917e-08 1.3291404e-08 0.0000000e+00]\n",
            " [1.2672270e-14 9.9992633e-01 3.2812230e-05 2.9255236e-08 4.9876398e-06\n",
            "  1.3960020e-07 2.2478629e-10 1.6690502e-07 3.5463465e-05 4.5355995e-09]\n",
            " [9.9996293e-01 1.3922042e-05 5.0305966e-06 1.1760511e-05 3.1201324e-08\n",
            "  2.3230814e-06 1.4098132e-06 1.4440547e-09 1.1464870e-06 1.4299375e-06]\n",
            " [8.5660560e-24 8.7806154e-15 6.8330731e-14 4.6777970e-31 1.0000000e+00\n",
            "  8.8755890e-21 6.6491463e-13 5.3093170e-17 4.0405901e-19 4.4289741e-09]] [[0. 0. 0. 0. 0. 0. 0. 1. 0. 0.]\n",
            " [0. 0. 1. 0. 0. 0. 0. 0. 0. 0.]\n",
            " [0. 1. 0. 0. 0. 0. 0. 0. 0. 0.]\n",
            " [1. 0. 0. 0. 0. 0. 0. 0. 0. 0.]\n",
            " [0. 0. 0. 0. 1. 0. 0. 0. 0. 0.]]\n",
            "10000/10000 [==============================] - 0s 39us/step\n",
            "test_loss: 0.22795467947721482    test_accuracy: 0.9702000021934509\n"
          ],
          "name": "stdout"
        }
      ]
    },
    {
      "cell_type": "markdown",
      "metadata": {
        "id": "Pb-3Fy2qSq3v",
        "colab_type": "text"
      },
      "source": [
        "接下来用卷积神经网络来训练手写数字，，看看准确率能达到多少，，（3个卷积层）"
      ]
    },
    {
      "cell_type": "code",
      "metadata": {
        "id": "vzHo2HolTAJK",
        "colab_type": "code",
        "colab": {
          "base_uri": "https://localhost:8080/",
          "height": 399
        },
        "outputId": "32273489-c71e-4f24-f459-900538e3f3a5"
      },
      "source": [
        "from keras.utils import to_categorical\n",
        "from keras import models, layers\n",
        "from keras.optimizers import RMSprop\n",
        "from keras.datasets import mnist\n",
        "# 加载数据集\n",
        "(train_images, train_labels), (test_images, test_labels) = mnist.load_data()\n",
        "\n",
        "# 搭建LeNet网络\n",
        "def LeNet():\n",
        "    network = models.Sequential()\n",
        "    network.add(layers.Conv2D(filters=6, kernel_size=(3, 3), activation='relu', input_shape=(28, 28, 1)))\n",
        "    network.add(layers.AveragePooling2D((2, 2)))\n",
        "    network.add(layers.Conv2D(filters=16, kernel_size=(3, 3), activation='relu'))\n",
        "    network.add(layers.AveragePooling2D((2, 2)))\n",
        "    network.add(layers.Conv2D(filters=120, kernel_size=(3, 3), activation='relu'))\n",
        "    network.add(layers.Flatten())\n",
        "    network.add(layers.Dense(84, activation='relu'))\n",
        "    network.add(layers.Dense(10, activation='softmax'))\n",
        "    return network\n",
        "network = LeNet()\n",
        "network.compile(optimizer=RMSprop(lr=0.001), loss='categorical_crossentropy', metrics=['accuracy'])\n",
        "\n",
        "train_images = train_images.reshape((60000, 28, 28, 1)).astype('float') / 255\n",
        "test_images = test_images.reshape((10000, 28, 28, 1)).astype('float') / 255\n",
        "train_labels = to_categorical(train_labels)\n",
        "test_labels = to_categorical(test_labels)\n",
        "\n",
        "# 训练网络，用fit函数, epochs表示训练多少个回合， batch_size表示每次训练给多大的数据\n",
        "network.fit(train_images, train_labels, epochs=10, batch_size=128, verbose=2)\n",
        "test_loss, test_accuracy = network.evaluate(test_images, test_labels)\n",
        "print(\"test_loss:\", test_loss, \"    test_accuracy:\", test_accuracy)"
      ],
      "execution_count": 41,
      "outputs": [
        {
          "output_type": "stream",
          "text": [
            "Epoch 1/10\n",
            " - 20s - loss: 0.3851 - accuracy: 0.8831\n",
            "Epoch 2/10\n",
            " - 20s - loss: 0.1008 - accuracy: 0.9694\n",
            "Epoch 3/10\n",
            " - 20s - loss: 0.0653 - accuracy: 0.9795\n",
            "Epoch 4/10\n",
            " - 20s - loss: 0.0500 - accuracy: 0.9845\n",
            "Epoch 5/10\n",
            " - 19s - loss: 0.0408 - accuracy: 0.9873\n",
            "Epoch 6/10\n",
            " - 20s - loss: 0.0340 - accuracy: 0.9894\n",
            "Epoch 7/10\n",
            " - 24s - loss: 0.0283 - accuracy: 0.9911\n",
            "Epoch 8/10\n",
            " - 20s - loss: 0.0247 - accuracy: 0.9923\n",
            "Epoch 9/10\n",
            " - 20s - loss: 0.0212 - accuracy: 0.9934\n",
            "Epoch 10/10\n",
            " - 20s - loss: 0.0186 - accuracy: 0.9945\n",
            "10000/10000 [==============================] - 2s 214us/step\n",
            "test_loss: 0.03481156985949492     test_accuracy: 0.9883999824523926\n"
          ],
          "name": "stdout"
        }
      ]
    }
  ]
}