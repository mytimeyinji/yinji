{
  "nbformat": 4,
  "nbformat_minor": 0,
  "metadata": {
    "colab": {
      "name": "VGG16.ipynb",
      "provenance": [],
      "authorship_tag": "ABX9TyNkRjS+80qqqy7WWpR7HMMX",
      "include_colab_link": true
    },
    "kernelspec": {
      "name": "python3",
      "display_name": "Python 3"
    }
  },
  "cells": [
    {
      "cell_type": "markdown",
      "metadata": {
        "id": "view-in-github",
        "colab_type": "text"
      },
      "source": [
        "<a href=\"https://colab.research.google.com/github/mytimeyinji/yinji/blob/master/VGG16.ipynb\" target=\"_parent\"><img src=\"https://colab.research.google.com/assets/colab-badge.svg\" alt=\"Open In Colab\"/></a>"
      ]
    },
    {
      "cell_type": "code",
      "metadata": {
        "id": "ovo-KTEWRbfP",
        "colab_type": "code",
        "colab": {
          "base_uri": "https://localhost:8080/",
          "height": 34
        },
        "outputId": "39869bc9-5be3-4a26-d0b8-77921458a55a"
      },
      "source": [
        "from __future__ import print_function\n",
        "\n",
        "import math\n",
        "\n",
        "from IPython import display\n",
        "from matplotlib import cm\n",
        "from matplotlib import gridspec\n",
        "from matplotlib import pyplot as plt\n",
        "import numpy as np\n",
        "import pandas as pd\n",
        "from sklearn import metrics\n",
        "%tensorflow_version 1.x\n",
        "import tensorflow as tf\n",
        "from tensorflow.python.data import Dataset\n",
        "\n",
        "tf.logging.set_verbosity(tf.logging.ERROR)\n",
        "pd.options.display.max_rows = 10\n",
        "pd.options.display.float_format = '{:.1f}'.format"
      ],
      "execution_count": 1,
      "outputs": [
        {
          "output_type": "stream",
          "text": [
            "TensorFlow 1.x selected.\n"
          ],
          "name": "stdout"
        }
      ]
    },
    {
      "cell_type": "code",
      "metadata": {
        "id": "sJk9hIKfcQFZ",
        "colab_type": "code",
        "colab": {
          "base_uri": "https://localhost:8080/",
          "height": 51
        },
        "outputId": "0a267c22-ea7a-4fa3-dc1a-a96ada6acad1"
      },
      "source": [
        "import tensorflow as tf\n",
        "from tensorflow import keras\n",
        "from keras import Model,Sequential\n",
        "from keras.layers import Flatten, Dense, Conv2D, GlobalAveragePooling2D\n",
        "from keras.layers import Input, MaxPooling2D, GlobalMaxPooling2D\n",
        "from keras.utils.data_utils import get_file\n",
        "from keras.preprocessing import image\n",
        "from keras.applications.imagenet_utils import decode_predictions\n",
        "from keras.applications.imagenet_utils import preprocess_input\n",
        "import numpy as np\n",
        "WEIGHTS_PATH = 'https://github.com/fchollet/deep-learning-models/releases/download/v0.1/vgg16_weights_tf_dim_ordering_tf_kernels.h5'\n",
        "\n",
        "\n",
        "def VGG16(num_classes):\n",
        "    # 224，224，3\n",
        "    image_input = Input(shape = (224,224,3))\n",
        "    # 第一个卷积部分\n",
        "    # 112，112，64\n",
        "    x = Conv2D(64,(3,3),activation = 'relu',padding = 'same',name = 'block1_conv1')(image_input)\n",
        "    x = Conv2D(64,(3,3),activation = 'relu',padding = 'same', name = 'block1_conv2')(x)\n",
        "    x = MaxPooling2D((2,2), strides = (2,2), name = 'block1_pool')(x)\n",
        "\n",
        "    # 第二个卷积部分\n",
        "    # 56,56,128\n",
        "    x = Conv2D(128,(3,3),activation = 'relu',padding = 'same',name = 'block2_conv1')(x)\n",
        "    x = Conv2D(128,(3,3),activation = 'relu',padding = 'same',name = 'block2_conv2')(x)\n",
        "    x = MaxPooling2D((2,2),strides = (2,2),name = 'block2_pool')(x)\n",
        "\n",
        "    # 第三个卷积部分\n",
        "    # 28,28,256\n",
        "    x = Conv2D(256,(3,3),activation = 'relu',padding = 'same',name = 'block3_conv1')(x)\n",
        "    x = Conv2D(256,(3,3),activation = 'relu',padding = 'same',name = 'block3_conv2')(x)\n",
        "    x = Conv2D(256,(3,3),activation = 'relu',padding = 'same',name = 'block3_conv3')(x)\n",
        "    x = MaxPooling2D((2,2),strides = (2,2),name = 'block3_pool')(x)\n",
        "\n",
        "    # 第四个卷积部分\n",
        "    # 14,14,512\n",
        "    x = Conv2D(512,(3,3),activation = 'relu',padding = 'same', name = 'block4_conv1')(x)\n",
        "    x = Conv2D(512,(3,3),activation = 'relu',padding = 'same', name = 'block4_conv2')(x)\n",
        "    x = Conv2D(512,(3,3),activation = 'relu',padding = 'same', name = 'block4_conv3')(x)\n",
        "    x = MaxPooling2D((2,2),strides = (2,2),name = 'block4_pool')(x)\n",
        "\n",
        "    # 第五个卷积部分\n",
        "    # 7,7,512\n",
        "    x = Conv2D(512,(3,3),activation = 'relu',padding = 'same', name = 'block5_conv1')(x)\n",
        "    x = Conv2D(512,(3,3),activation = 'relu',padding = 'same', name = 'block5_conv2')(x)\n",
        "    x = Conv2D(512,(3,3),activation = 'relu',padding = 'same', name = 'block5_conv3')(x)    \n",
        "    x = MaxPooling2D((2,2),strides = (2,2),name = 'block5_pool')(x)\n",
        "    # 提取特征\n",
        "\n",
        "    # 分类部分\n",
        "    # 7x7x512\n",
        "    # 25088\n",
        "    x = Flatten(name='flatten')(x)\n",
        "    x = Dense(4096, activation='relu', name='fc1')(x)\n",
        "    x = Dense(4096, activation='relu', name='fc2')(x)\n",
        "    x = Dense(num_classes, activation='softmax', name='predictions')(x)\n",
        "    model = Model(image_input,x,name = 'vgg16')\n",
        "\n",
        "    return model\n",
        "\n",
        "if __name__ == '__main__':\n",
        "    model = VGG16(1000)\n",
        "    weights_path = get_file('vgg16_weights_tf_dim_ordering_tf_kernels.h5',\n",
        "                                    WEIGHTS_PATH,\n",
        "                                    cache_subdir='models')\n",
        "    model.load_weights(weights_path)\n",
        "    img_path = '/content/flower.jpg'\n",
        "    img = image.load_img(img_path, target_size=(224, 224))\n",
        "    x = image.img_to_array(img)\n",
        "    x = np.expand_dims(x, axis=0)\n",
        "    x = preprocess_input(x)\n",
        "    print('Input image shape:', x.shape)\n",
        "\n",
        "    preds = model.predict(x)\n",
        "    print('Predicted:', decode_predictions(preds))"
      ],
      "execution_count": 7,
      "outputs": [
        {
          "output_type": "stream",
          "text": [
            "Input image shape: (1, 224, 224, 3)\n",
            "Predicted: [[('n11939491', 'daisy', 0.95559406), ('n02206856', 'bee', 0.0072091445), ('n04522168', 'vase', 0.0045151743), ('n07730033', 'cardoon', 0.0023682392), ('n07747607', 'orange', 0.001609608)]]\n"
          ],
          "name": "stdout"
        }
      ]
    }
  ]
}